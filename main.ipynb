{
 "cells": [
  {
   "cell_type": "code",
   "execution_count": 115,
   "metadata": {
    "collapsed": true,
    "ExecuteTime": {
     "end_time": "2023-10-12T11:14:24.623516700Z",
     "start_time": "2023-10-12T11:14:24.548021200Z"
    }
   },
   "outputs": [],
   "source": [
    "import pandas as pd\n",
    "\n",
    "import matplotlib.pyplot as plt\n",
    "\n",
    "from sklearn.model_selection import train_test_split\n",
    "from sklearn.tree import DecisionTreeClassifier\n",
    "from sklearn.ensemble import RandomForestClassifier\n",
    "\n",
    "from sklearn.metrics import accuracy_score, precision_score, recall_score, f1_score, roc_auc_score, roc_curve, \\\n",
    "    precision_recall_curve, log_loss\n",
    "\n",
    "from sklearn.model_selection import GridSearchCV"
   ]
  },
  {
   "cell_type": "code",
   "execution_count": 116,
   "outputs": [],
   "source": [
    "df = pd.read_csv('data/bioresponse.csv')"
   ],
   "metadata": {
    "collapsed": false,
    "ExecuteTime": {
     "end_time": "2023-10-12T11:14:25.984424800Z",
     "start_time": "2023-10-12T11:14:24.569481400Z"
    }
   }
  },
  {
   "cell_type": "code",
   "execution_count": 117,
   "outputs": [
    {
     "name": "stdout",
     "output_type": "stream",
     "text": [
      "<class 'pandas.core.frame.DataFrame'>\n",
      "RangeIndex: 3751 entries, 0 to 3750\n",
      "Columns: 1777 entries, Activity to D1776\n",
      "dtypes: float64(942), int64(835)\n",
      "memory usage: 50.9 MB\n"
     ]
    }
   ],
   "source": [
    "df.info()"
   ],
   "metadata": {
    "collapsed": false,
    "ExecuteTime": {
     "end_time": "2023-10-12T11:14:26.206858300Z",
     "start_time": "2023-10-12T11:14:25.990422500Z"
    }
   }
  },
  {
   "cell_type": "code",
   "execution_count": 118,
   "outputs": [
    {
     "data": {
      "text/plain": "   Activity        D1        D2    D3   D4        D5        D6        D7  \\\n0         1  0.000000  0.497009  0.10  0.0  0.132956  0.678031  0.273166   \n1         1  0.366667  0.606291  0.05  0.0  0.111209  0.803455  0.106105   \n2         1  0.033300  0.480124  0.00  0.0  0.209791  0.610350  0.356453   \n3         1  0.000000  0.538825  0.00  0.5  0.196344  0.724230  0.235606   \n4         0  0.100000  0.517794  0.00  0.0  0.494734  0.781422  0.154361   \n\n         D8        D9  ...  D1767  D1768  D1769  D1770  D1771  D1772  D1773  \\\n0  0.585445  0.743663  ...      0      0      0      0      0      0      0   \n1  0.411754  0.836582  ...      1      1      1      1      0      1      0   \n2  0.517720  0.679051  ...      0      0      0      0      0      0      0   \n3  0.288764  0.805110  ...      0      0      0      0      0      0      0   \n4  0.303809  0.812646  ...      0      0      0      0      0      0      0   \n\n   D1774  D1775  D1776  \n0      0      0      0  \n1      0      1      0  \n2      0      0      0  \n3      0      0      0  \n4      0      0      0  \n\n[5 rows x 1777 columns]",
      "text/html": "<div>\n<style scoped>\n    .dataframe tbody tr th:only-of-type {\n        vertical-align: middle;\n    }\n\n    .dataframe tbody tr th {\n        vertical-align: top;\n    }\n\n    .dataframe thead th {\n        text-align: right;\n    }\n</style>\n<table border=\"1\" class=\"dataframe\">\n  <thead>\n    <tr style=\"text-align: right;\">\n      <th></th>\n      <th>Activity</th>\n      <th>D1</th>\n      <th>D2</th>\n      <th>D3</th>\n      <th>D4</th>\n      <th>D5</th>\n      <th>D6</th>\n      <th>D7</th>\n      <th>D8</th>\n      <th>D9</th>\n      <th>...</th>\n      <th>D1767</th>\n      <th>D1768</th>\n      <th>D1769</th>\n      <th>D1770</th>\n      <th>D1771</th>\n      <th>D1772</th>\n      <th>D1773</th>\n      <th>D1774</th>\n      <th>D1775</th>\n      <th>D1776</th>\n    </tr>\n  </thead>\n  <tbody>\n    <tr>\n      <th>0</th>\n      <td>1</td>\n      <td>0.000000</td>\n      <td>0.497009</td>\n      <td>0.10</td>\n      <td>0.0</td>\n      <td>0.132956</td>\n      <td>0.678031</td>\n      <td>0.273166</td>\n      <td>0.585445</td>\n      <td>0.743663</td>\n      <td>...</td>\n      <td>0</td>\n      <td>0</td>\n      <td>0</td>\n      <td>0</td>\n      <td>0</td>\n      <td>0</td>\n      <td>0</td>\n      <td>0</td>\n      <td>0</td>\n      <td>0</td>\n    </tr>\n    <tr>\n      <th>1</th>\n      <td>1</td>\n      <td>0.366667</td>\n      <td>0.606291</td>\n      <td>0.05</td>\n      <td>0.0</td>\n      <td>0.111209</td>\n      <td>0.803455</td>\n      <td>0.106105</td>\n      <td>0.411754</td>\n      <td>0.836582</td>\n      <td>...</td>\n      <td>1</td>\n      <td>1</td>\n      <td>1</td>\n      <td>1</td>\n      <td>0</td>\n      <td>1</td>\n      <td>0</td>\n      <td>0</td>\n      <td>1</td>\n      <td>0</td>\n    </tr>\n    <tr>\n      <th>2</th>\n      <td>1</td>\n      <td>0.033300</td>\n      <td>0.480124</td>\n      <td>0.00</td>\n      <td>0.0</td>\n      <td>0.209791</td>\n      <td>0.610350</td>\n      <td>0.356453</td>\n      <td>0.517720</td>\n      <td>0.679051</td>\n      <td>...</td>\n      <td>0</td>\n      <td>0</td>\n      <td>0</td>\n      <td>0</td>\n      <td>0</td>\n      <td>0</td>\n      <td>0</td>\n      <td>0</td>\n      <td>0</td>\n      <td>0</td>\n    </tr>\n    <tr>\n      <th>3</th>\n      <td>1</td>\n      <td>0.000000</td>\n      <td>0.538825</td>\n      <td>0.00</td>\n      <td>0.5</td>\n      <td>0.196344</td>\n      <td>0.724230</td>\n      <td>0.235606</td>\n      <td>0.288764</td>\n      <td>0.805110</td>\n      <td>...</td>\n      <td>0</td>\n      <td>0</td>\n      <td>0</td>\n      <td>0</td>\n      <td>0</td>\n      <td>0</td>\n      <td>0</td>\n      <td>0</td>\n      <td>0</td>\n      <td>0</td>\n    </tr>\n    <tr>\n      <th>4</th>\n      <td>0</td>\n      <td>0.100000</td>\n      <td>0.517794</td>\n      <td>0.00</td>\n      <td>0.0</td>\n      <td>0.494734</td>\n      <td>0.781422</td>\n      <td>0.154361</td>\n      <td>0.303809</td>\n      <td>0.812646</td>\n      <td>...</td>\n      <td>0</td>\n      <td>0</td>\n      <td>0</td>\n      <td>0</td>\n      <td>0</td>\n      <td>0</td>\n      <td>0</td>\n      <td>0</td>\n      <td>0</td>\n      <td>0</td>\n    </tr>\n  </tbody>\n</table>\n<p>5 rows × 1777 columns</p>\n</div>"
     },
     "execution_count": 118,
     "metadata": {},
     "output_type": "execute_result"
    }
   ],
   "source": [
    "df.head()"
   ],
   "metadata": {
    "collapsed": false,
    "ExecuteTime": {
     "end_time": "2023-10-12T11:14:26.306324400Z",
     "start_time": "2023-10-12T11:14:26.209781400Z"
    }
   }
  },
  {
   "cell_type": "code",
   "execution_count": 119,
   "outputs": [
    {
     "data": {
      "text/plain": "['Activity']"
     },
     "execution_count": 119,
     "metadata": {},
     "output_type": "execute_result"
    }
   ],
   "source": [
    "[c for c in df.columns if not c[1:].isdigit()]"
   ],
   "metadata": {
    "collapsed": false,
    "ExecuteTime": {
     "end_time": "2023-10-12T11:14:26.306324400Z",
     "start_time": "2023-10-12T11:14:26.243806100Z"
    }
   }
  },
  {
   "cell_type": "code",
   "execution_count": 120,
   "outputs": [
    {
     "data": {
      "text/plain": "Activity\n1    2034\n0    1717\nName: count, dtype: int64"
     },
     "execution_count": 120,
     "metadata": {},
     "output_type": "execute_result"
    }
   ],
   "source": [
    "df.Activity.value_counts(dropna=False)"
   ],
   "metadata": {
    "collapsed": false,
    "ExecuteTime": {
     "end_time": "2023-10-12T11:14:26.306324400Z",
     "start_time": "2023-10-12T11:14:26.255327800Z"
    }
   }
  },
  {
   "cell_type": "code",
   "execution_count": 121,
   "outputs": [
    {
     "data": {
      "text/plain": "count    3751.000000\nmean        0.076948\nstd         0.079989\nmin         0.000000\n25%         0.033300\n50%         0.066700\n75%         0.100000\nmax         1.000000\nName: D1, dtype: float64"
     },
     "execution_count": 121,
     "metadata": {},
     "output_type": "execute_result"
    }
   ],
   "source": [
    "df.D1.describe()"
   ],
   "metadata": {
    "collapsed": false,
    "ExecuteTime": {
     "end_time": "2023-10-12T11:14:26.307325300Z",
     "start_time": "2023-10-12T11:14:26.271325200Z"
    }
   }
  },
  {
   "cell_type": "markdown",
   "source": [
    "Prepare data splits"
   ],
   "metadata": {
    "collapsed": false
   }
  },
  {
   "cell_type": "code",
   "execution_count": 122,
   "outputs": [],
   "source": [
    "train, leftover = train_test_split(df, test_size=0.36, random_state=42)"
   ],
   "metadata": {
    "collapsed": false,
    "ExecuteTime": {
     "end_time": "2023-10-12T11:14:26.470107Z",
     "start_time": "2023-10-12T11:14:26.289326900Z"
    }
   }
  },
  {
   "cell_type": "code",
   "execution_count": 123,
   "outputs": [],
   "source": [
    "validate, test = train_test_split(leftover, test_size=0.5, random_state=42)"
   ],
   "metadata": {
    "collapsed": false,
    "ExecuteTime": {
     "end_time": "2023-10-12T11:14:26.512110800Z",
     "start_time": "2023-10-12T11:14:26.354849400Z"
    }
   }
  },
  {
   "cell_type": "code",
   "execution_count": 124,
   "outputs": [],
   "source": [
    "X_train = train.drop('Activity', axis=1)\n",
    "y_train = train.Activity"
   ],
   "metadata": {
    "collapsed": false,
    "ExecuteTime": {
     "end_time": "2023-10-12T11:14:26.513110500Z",
     "start_time": "2023-10-12T11:14:26.395849400Z"
    }
   }
  },
  {
   "cell_type": "code",
   "execution_count": 125,
   "outputs": [],
   "source": [
    "X_test = validate.drop('Activity', axis=1)\n",
    "y_test = validate.Activity"
   ],
   "metadata": {
    "collapsed": false,
    "ExecuteTime": {
     "end_time": "2023-10-12T11:14:26.590276700Z",
     "start_time": "2023-10-12T11:14:26.428849700Z"
    }
   }
  },
  {
   "cell_type": "markdown",
   "source": [
    "1"
   ],
   "metadata": {
    "collapsed": false
   }
  },
  {
   "cell_type": "code",
   "execution_count": 126,
   "outputs": [],
   "source": [
    "models = [DecisionTreeClassifier(max_depth=3, random_state=42),\n",
    "          DecisionTreeClassifier(random_state=42),\n",
    "          RandomForestClassifier(n_estimators=100, max_depth=3, random_state=42),\n",
    "          RandomForestClassifier(n_estimators=150, random_state=42),\n",
    "          ]"
   ],
   "metadata": {
    "collapsed": false,
    "ExecuteTime": {
     "end_time": "2023-10-12T11:14:26.591277Z",
     "start_time": "2023-10-12T11:14:26.470107Z"
    }
   }
  },
  {
   "cell_type": "code",
   "execution_count": 127,
   "outputs": [
    {
     "name": "stdout",
     "output_type": "stream",
     "text": [
      "DecisionTreeClassifier (max depth 3)\n",
      "train accuracy: 0.7729166666666667\n",
      "test accuracy : 0.7733333333333333\n",
      "precision     : 0.7712082262210797\n",
      "recall        : 0.8241758241758241\n",
      "f1            : 0.7968127490039841\n",
      "log_loss      : 0.5171086794245594\n",
      "\n",
      "DecisionTreeClassifier (max depth not limited)\n",
      "train accuracy: 1.0\n",
      "test accuracy : 0.7140740740740741\n",
      "precision     : 0.7244094488188977\n",
      "recall        : 0.7582417582417582\n",
      "f1            : 0.7409395973154363\n",
      "log_loss      : 10.30581496903646\n",
      "\n",
      "RandomForestClassifier (max depth 3)\n",
      "train accuracy: 0.7383333333333333\n",
      "test accuracy : 0.7422222222222222\n",
      "precision     : 0.7581521739130435\n",
      "recall        : 0.7664835164835165\n",
      "f1            : 0.7622950819672132\n",
      "log_loss      : 0.5950600000874459\n",
      "\n",
      "RandomForestClassifier (max depth not limited)\n",
      "train accuracy: 1.0\n",
      "test accuracy : 0.794074074074074\n",
      "precision     : 0.8048780487804879\n",
      "recall        : 0.8159340659340659\n",
      "f1            : 0.810368349249659\n",
      "log_loss      : 0.4633939875369518\n",
      "\n"
     ]
    }
   ],
   "source": [
    "for model in models:\n",
    "    model.fit(X_train, y_train)\n",
    "    print(f\"{model.__class__.__name__} (max depth {model.max_depth if model.max_depth else 'not limited'})\")\n",
    "    print('train accuracy:', model.score(X_train, y_train))\n",
    "    print('test accuracy :', model.score(X_test, y_test))\n",
    "    print('precision     :', precision_score(y_test, model.predict(X_test)))\n",
    "    print('recall        :', recall_score(y_test, model.predict(X_test)))\n",
    "    print('f1            :', f1_score(y_test, model.predict(X_test)))\n",
    "    print('log_loss      :', log_loss(y_test, model.predict_proba(X_test)))\n",
    "    print()"
   ],
   "metadata": {
    "collapsed": false,
    "ExecuteTime": {
     "end_time": "2023-10-12T11:14:40.470205600Z",
     "start_time": "2023-10-12T11:14:26.475110800Z"
    }
   }
  },
  {
   "cell_type": "code",
   "execution_count": 128,
   "outputs": [
    {
     "data": {
      "text/plain": "<Figure size 640x480 with 1 Axes>",
      "image/png": "[encoded data removed]"
     },
     "metadata": {},
     "output_type": "display_data"
    }
   ],
   "source": [
    "for model in models:\n",
    "    prc = precision_recall_curve(y_test, model.predict_proba(X_test)[:, 1])\n",
    "    plt.plot(prc[0], prc[1])\n",
    "    plt.legend([f'{name}{\" ∞\" * (i % 2)}' for i, name in list(enumerate([m.__class__.__name__ for m in models]))])\n",
    "\n",
    "# plt.xlim([-0.05, 1.05])\n",
    "# plt.ylim([-0.05, 1.05])"
   ],
   "metadata": {
    "collapsed": false,
    "ExecuteTime": {
     "end_time": "2023-10-12T11:14:40.787323100Z",
     "start_time": "2023-10-12T11:14:40.472205400Z"
    }
   }
  },
  {
   "cell_type": "code",
   "execution_count": 129,
   "outputs": [
    {
     "data": {
      "text/plain": "(-0.05, 1.05)"
     },
     "execution_count": 129,
     "metadata": {},
     "output_type": "execute_result"
    },
    {
     "data": {
      "text/plain": "<Figure size 640x480 with 1 Axes>",
      "image/png": "[encoded data removed]"
     },
     "metadata": {},
     "output_type": "display_data"
    }
   ],
   "source": [
    "for model in models:\n",
    "    roc = roc_curve(y_test, model.predict_proba(X_test)[:, 1])\n",
    "    plt.plot(roc[0], roc[1])\n",
    "    plt.legend([f'{name}{\" ∞\" * (i % 2)}' for i, name in list(enumerate([m.__class__.__name__ for m in models]))])\n",
    "\n",
    "plt.xlim([-0.05, 1.05])\n",
    "plt.ylim([-0.05, 1.05])"
   ],
   "metadata": {
    "collapsed": false,
    "ExecuteTime": {
     "end_time": "2023-10-12T11:14:41.227656100Z",
     "start_time": "2023-10-12T11:14:40.788325300Z"
    }
   }
  },
  {
   "cell_type": "markdown",
   "source": [
    "2. Train a max-recall classifier (avoid FN)"
   ],
   "metadata": {
    "collapsed": false
   }
  },
  {
   "cell_type": "code",
   "execution_count": 134,
   "outputs": [],
   "source": [
    "clf = RandomForestClassifier(n_estimators=150, random_state=42)"
   ],
   "metadata": {
    "collapsed": false,
    "ExecuteTime": {
     "end_time": "2023-10-12T12:05:45.655594200Z",
     "start_time": "2023-10-12T12:05:45.637593300Z"
    }
   }
  },
  {
   "cell_type": "code",
   "execution_count": 146,
   "outputs": [],
   "source": [
    "param_grid = {\n",
    "    'max_depth': [15, None],\n",
    "    'max_features': [0.9, \"sqrt\"],\n",
    "    # 'n_estimators': [150, 200]\n",
    "}"
   ],
   "metadata": {
    "collapsed": false,
    "ExecuteTime": {
     "end_time": "2023-10-12T12:18:26.747088200Z",
     "start_time": "2023-10-12T12:18:26.726326700Z"
    }
   }
  },
  {
   "cell_type": "code",
   "execution_count": 147,
   "outputs": [],
   "source": [
    "grid_search = GridSearchCV(clf, param_grid, scoring='recall', cv=5, n_jobs=-1)"
   ],
   "metadata": {
    "collapsed": false,
    "ExecuteTime": {
     "end_time": "2023-10-12T12:18:30.793340100Z",
     "start_time": "2023-10-12T12:18:30.780565Z"
    }
   }
  },
  {
   "cell_type": "code",
   "execution_count": 148,
   "outputs": [
    {
     "data": {
      "text/plain": "GridSearchCV(cv=5,\n             estimator=RandomForestClassifier(n_estimators=150,\n                                              random_state=42),\n             n_jobs=-1,\n             param_grid={'max_depth': [15, None],\n                         'max_features': [0.9, 'sqrt']},\n             scoring='recall')",
      "text/html": "<style>#sk-container-id-3 {color: black;}#sk-container-id-3 pre{padding: 0;}#sk-container-id-3 div.sk-toggleable {background-color: white;}#sk-container-id-3 label.sk-toggleable__label {cursor: pointer;display: block;width: 100%;margin-bottom: 0;padding: 0.3em;box-sizing: border-box;text-align: center;}#sk-container-id-3 label.sk-toggleable__label-arrow:before {content: \"▸\";float: left;margin-right: 0.25em;color: #696969;}#sk-container-id-3 label.sk-toggleable__label-arrow:hover:before {color: black;}#sk-container-id-3 div.sk-estimator:hover label.sk-toggleable__label-arrow:before {color: black;}#sk-container-id-3 div.sk-toggleable__content {max-height: 0;max-width: 0;overflow: hidden;text-align: left;background-color: #f0f8ff;}#sk-container-id-3 div.sk-toggleable__content pre {margin: 0.2em;color: black;border-radius: 0.25em;background-color: #f0f8ff;}#sk-container-id-3 input.sk-toggleable__control:checked~div.sk-toggleable__content {max-height: 200px;max-width: 100%;overflow: auto;}#sk-container-id-3 input.sk-toggleable__control:checked~label.sk-toggleable__label-arrow:before {content: \"▾\";}#sk-container-id-3 div.sk-estimator input.sk-toggleable__control:checked~label.sk-toggleable__label {background-color: #d4ebff;}#sk-container-id-3 div.sk-label input.sk-toggleable__control:checked~label.sk-toggleable__label {background-color: #d4ebff;}#sk-container-id-3 input.sk-hidden--visually {border: 0;clip: rect(1px 1px 1px 1px);clip: rect(1px, 1px, 1px, 1px);height: 1px;margin: -1px;overflow: hidden;padding: 0;position: absolute;width: 1px;}#sk-container-id-3 div.sk-estimator {font-family: monospace;background-color: #f0f8ff;border: 1px dotted black;border-radius: 0.25em;box-sizing: border-box;margin-bottom: 0.5em;}#sk-container-id-3 div.sk-estimator:hover {background-color: #d4ebff;}#sk-container-id-3 div.sk-parallel-item::after {content: \"\";width: 100%;border-bottom: 1px solid gray;flex-grow: 1;}#sk-container-id-3 div.sk-label:hover label.sk-toggleable__label {background-color: #d4ebff;}#sk-container-id-3 div.sk-serial::before {content: \"\";position: absolute;border-left: 1px solid gray;box-sizing: border-box;top: 0;bottom: 0;left: 50%;z-index: 0;}#sk-container-id-3 div.sk-serial {display: flex;flex-direction: column;align-items: center;background-color: white;padding-right: 0.2em;padding-left: 0.2em;position: relative;}#sk-container-id-3 div.sk-item {position: relative;z-index: 1;}#sk-container-id-3 div.sk-parallel {display: flex;align-items: stretch;justify-content: center;background-color: white;position: relative;}#sk-container-id-3 div.sk-item::before, #sk-container-id-3 div.sk-parallel-item::before {content: \"\";position: absolute;border-left: 1px solid gray;box-sizing: border-box;top: 0;bottom: 0;left: 50%;z-index: -1;}#sk-container-id-3 div.sk-parallel-item {display: flex;flex-direction: column;z-index: 1;position: relative;background-color: white;}#sk-container-id-3 div.sk-parallel-item:first-child::after {align-self: flex-end;width: 50%;}#sk-container-id-3 div.sk-parallel-item:last-child::after {align-self: flex-start;width: 50%;}#sk-container-id-3 div.sk-parallel-item:only-child::after {width: 0;}#sk-container-id-3 div.sk-dashed-wrapped {border: 1px dashed gray;margin: 0 0.4em 0.5em 0.4em;box-sizing: border-box;padding-bottom: 0.4em;background-color: white;}#sk-container-id-3 div.sk-label label {font-family: monospace;font-weight: bold;display: inline-block;line-height: 1.2em;}#sk-container-id-3 div.sk-label-container {text-align: center;}#sk-container-id-3 div.sk-container {/* jupyter's `normalize.less` sets `[hidden] { display: none; }` but bootstrap.min.css set `[hidden] { display: none !important; }` so we also need the `!important` here to be able to override the default hidden behavior on the sphinx rendered scikit-learn.org. See: https://github.com/scikit-learn/scikit-learn/issues/21755 */display: inline-block !important;position: relative;}#sk-container-id-3 div.sk-text-repr-fallback {display: none;}</style><div id=\"sk-container-id-3\" class=\"sk-top-container\"><div class=\"sk-text-repr-fallback\"><pre>GridSearchCV(cv=5,\n             estimator=RandomForestClassifier(n_estimators=150,\n                                              random_state=42),\n             n_jobs=-1,\n             param_grid={&#x27;max_depth&#x27;: [15, None],\n                         &#x27;max_features&#x27;: [0.9, &#x27;sqrt&#x27;]},\n             scoring=&#x27;recall&#x27;)</pre><b>In a Jupyter environment, please rerun this cell to show the HTML representation or trust the notebook. <br />On GitHub, the HTML representation is unable to render, please try loading this page with nbviewer.org.</b></div><div class=\"sk-container\" hidden><div class=\"sk-item sk-dashed-wrapped\"><div class=\"sk-label-container\"><div class=\"sk-label sk-toggleable\"><input class=\"sk-toggleable__control sk-hidden--visually\" id=\"sk-estimator-id-5\" type=\"checkbox\" ><label for=\"sk-estimator-id-5\" class=\"sk-toggleable__label sk-toggleable__label-arrow\">GridSearchCV</label><div class=\"sk-toggleable__content\"><pre>GridSearchCV(cv=5,\n             estimator=RandomForestClassifier(n_estimators=150,\n                                              random_state=42),\n             n_jobs=-1,\n             param_grid={&#x27;max_depth&#x27;: [15, None],\n                         &#x27;max_features&#x27;: [0.9, &#x27;sqrt&#x27;]},\n             scoring=&#x27;recall&#x27;)</pre></div></div></div><div class=\"sk-parallel\"><div class=\"sk-parallel-item\"><div class=\"sk-item\"><div class=\"sk-label-container\"><div class=\"sk-label sk-toggleable\"><input class=\"sk-toggleable__control sk-hidden--visually\" id=\"sk-estimator-id-6\" type=\"checkbox\" ><label for=\"sk-estimator-id-6\" class=\"sk-toggleable__label sk-toggleable__label-arrow\">estimator: RandomForestClassifier</label><div class=\"sk-toggleable__content\"><pre>RandomForestClassifier(n_estimators=150, random_state=42)</pre></div></div></div><div class=\"sk-serial\"><div class=\"sk-item\"><div class=\"sk-estimator sk-toggleable\"><input class=\"sk-toggleable__control sk-hidden--visually\" id=\"sk-estimator-id-7\" type=\"checkbox\" ><label for=\"sk-estimator-id-7\" class=\"sk-toggleable__label sk-toggleable__label-arrow\">RandomForestClassifier</label><div class=\"sk-toggleable__content\"><pre>RandomForestClassifier(n_estimators=150, random_state=42)</pre></div></div></div></div></div></div></div></div></div></div>"
     },
     "execution_count": 148,
     "metadata": {},
     "output_type": "execute_result"
    }
   ],
   "source": [
    "grid_search.fit(X_train, y_train);"
   ],
   "metadata": {
    "collapsed": false,
    "ExecuteTime": {
     "end_time": "2023-10-12T12:25:26.238467500Z",
     "start_time": "2023-10-12T12:18:34.785394200Z"
    }
   }
  },
  {
   "cell_type": "code",
   "execution_count": 149,
   "outputs": [
    {
     "data": {
      "text/plain": "{'max_depth': 15, 'max_features': 0.9}"
     },
     "execution_count": 149,
     "metadata": {},
     "output_type": "execute_result"
    }
   ],
   "source": [
    "grid_search.best_params_"
   ],
   "metadata": {
    "collapsed": false,
    "ExecuteTime": {
     "end_time": "2023-10-12T12:31:54.584118100Z",
     "start_time": "2023-10-12T12:31:54.554599300Z"
    }
   }
  },
  {
   "cell_type": "code",
   "execution_count": 150,
   "outputs": [
    {
     "data": {
      "text/plain": "0.8267306126142431"
     },
     "execution_count": 150,
     "metadata": {},
     "output_type": "execute_result"
    }
   ],
   "source": [
    "grid_search.best_score_"
   ],
   "metadata": {
    "collapsed": false,
    "ExecuteTime": {
     "end_time": "2023-10-12T12:31:57.709851800Z",
     "start_time": "2023-10-12T12:31:57.651299300Z"
    }
   }
  },
  {
   "cell_type": "code",
   "execution_count": 167,
   "outputs": [
    {
     "data": {
      "text/plain": "0.9891219891219891"
     },
     "execution_count": 167,
     "metadata": {},
     "output_type": "execute_result"
    }
   ],
   "source": [
    "recall_score(y_train, clf.predict(X_train))"
   ],
   "metadata": {
    "collapsed": false,
    "ExecuteTime": {
     "end_time": "2023-10-12T12:40:31.167752300Z",
     "start_time": "2023-10-12T12:40:31.043226100Z"
    }
   }
  },
  {
   "cell_type": "code",
   "execution_count": 168,
   "outputs": [
    {
     "data": {
      "text/plain": "0.8324175824175825"
     },
     "execution_count": 168,
     "metadata": {},
     "output_type": "execute_result"
    }
   ],
   "source": [
    "recall_score(y_test, clf.predict(X_test))"
   ],
   "metadata": {
    "collapsed": false,
    "ExecuteTime": {
     "end_time": "2023-10-12T12:40:34.900784400Z",
     "start_time": "2023-10-12T12:40:34.830169900Z"
    }
   }
  },
  {
   "cell_type": "code",
   "execution_count": 158,
   "outputs": [],
   "source": [
    "X_final = test.drop('Activity', axis=1)\n",
    "y_final = test.Activity"
   ],
   "metadata": {
    "collapsed": false,
    "ExecuteTime": {
     "end_time": "2023-10-12T12:35:40.875769600Z",
     "start_time": "2023-10-12T12:35:40.865780600Z"
    }
   }
  },
  {
   "cell_type": "code",
   "execution_count": 169,
   "outputs": [
    {
     "data": {
      "text/plain": "0.7885117493472585"
     },
     "execution_count": 169,
     "metadata": {},
     "output_type": "execute_result"
    }
   ],
   "source": [
    "recall_score(y_final, clf.predict(X_final))"
   ],
   "metadata": {
    "collapsed": false,
    "ExecuteTime": {
     "end_time": "2023-10-12T12:40:42.941644700Z",
     "start_time": "2023-10-12T12:40:42.876042200Z"
    }
   }
  },
  {
   "cell_type": "code",
   "execution_count": 160,
   "outputs": [
    {
     "data": {
      "text/plain": "0.8053333333333333"
     },
     "execution_count": 160,
     "metadata": {},
     "output_type": "execute_result"
    }
   ],
   "source": [
    "precision_score(y_final, clf.predict(X_final))"
   ],
   "metadata": {
    "collapsed": false,
    "ExecuteTime": {
     "end_time": "2023-10-12T12:36:30.481477900Z",
     "start_time": "2023-10-12T12:36:30.436477100Z"
    }
   }
  },
  {
   "cell_type": "code",
   "execution_count": 161,
   "outputs": [
    {
     "data": {
      "text/plain": "0.7885117493472585"
     },
     "execution_count": 161,
     "metadata": {},
     "output_type": "execute_result"
    }
   ],
   "source": [
    "recall_score(y_final, clf.predict(X_final))"
   ],
   "metadata": {
    "collapsed": false,
    "ExecuteTime": {
     "end_time": "2023-10-12T12:36:33.097288300Z",
     "start_time": "2023-10-12T12:36:33.069268600Z"
    }
   }
  },
  {
   "cell_type": "code",
   "execution_count": 162,
   "outputs": [
    {
     "data": {
      "text/plain": "0.7968337730870714"
     },
     "execution_count": 162,
     "metadata": {},
     "output_type": "execute_result"
    }
   ],
   "source": [
    "f1_score(y_final, clf.predict(X_final))"
   ],
   "metadata": {
    "collapsed": false,
    "ExecuteTime": {
     "end_time": "2023-10-12T12:36:41.556237300Z",
     "start_time": "2023-10-12T12:36:41.515248500Z"
    }
   }
  },
  {
   "cell_type": "code",
   "execution_count": 172,
   "outputs": [
    {
     "data": {
      "text/plain": "0.47139389378872043"
     },
     "execution_count": 172,
     "metadata": {},
     "output_type": "execute_result"
    }
   ],
   "source": [
    "log_loss(y_final, clf.predict_proba(X_final))"
   ],
   "metadata": {
    "collapsed": false,
    "ExecuteTime": {
     "end_time": "2023-10-12T12:43:21.062335700Z",
     "start_time": "2023-10-12T12:43:20.980736800Z"
    }
   }
  },
  {
   "cell_type": "code",
   "execution_count": 170,
   "outputs": [
    {
     "name": "stdout",
     "output_type": "stream",
     "text": [
      "0.7859007832898173\n",
      "0.741514360313316\n",
      "0.7389033942558747\n",
      "0.793733681462141\n"
     ]
    }
   ],
   "source": [
    "for model in models:\n",
    "    print(recall_score(y_final, model.predict(X_final)))"
   ],
   "metadata": {
    "collapsed": false,
    "ExecuteTime": {
     "end_time": "2023-10-12T12:41:49.839567200Z",
     "start_time": "2023-10-12T12:41:49.655995100Z"
    }
   }
  },
  {
   "cell_type": "code",
   "execution_count": 166,
   "outputs": [
    {
     "name": "stdout",
     "output_type": "stream",
     "text": [
      "3\n",
      "29\n",
      "RandomForestClassifier\n",
      "RandomForestClassifier\n"
     ]
    }
   ],
   "source": [
    "for model in models:\n",
    "    try:\n",
    "        print(model.get_depth())\n",
    "    except:\n",
    "        print(model.__class__.__name__)"
   ],
   "metadata": {
    "collapsed": false,
    "ExecuteTime": {
     "end_time": "2023-10-12T12:38:58.846937800Z",
     "start_time": "2023-10-12T12:38:58.825868300Z"
    }
   }
  }
 ],
 "metadata": {
  "kernelspec": {
   "display_name": "Python 3",
   "language": "python",
   "name": "python3"
  },
  "language_info": {
   "codemirror_mode": {
    "name": "ipython",
    "version": 2
   },
   "file_extension": ".py",
   "mimetype": "text/x-python",
   "name": "python",
   "nbconvert_exporter": "python",
   "pygments_lexer": "ipython2",
   "version": "2.7.6"
  }
 },
 "nbformat": 4,
 "nbformat_minor": 0
}
